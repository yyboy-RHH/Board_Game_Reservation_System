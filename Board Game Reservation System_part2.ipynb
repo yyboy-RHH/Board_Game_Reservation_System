{
 "cells": [
  {
   "cell_type": "code",
   "execution_count": 1,
   "id": "4ea198ee-2c4e-470a-b1b8-f32dec4ab55c",
   "metadata": {},
   "outputs": [
    {
     "name": "stdin",
     "output_type": "stream",
     "text": [
      "輸入訊息： 想看遊戲種類\n"
     ]
    },
    {
     "name": "stdout",
     "output_type": "stream",
     "text": [
      "尚可預約遊戲：\n",
      "小瓦隆\n",
      "雨聲\n",
      "龍捲風\n",
      "\n"
     ]
    },
    {
     "name": "stdin",
     "output_type": "stream",
     "text": [
      "輸入訊息： 想預約小瓦隆\n"
     ]
    },
    {
     "name": "stdout",
     "output_type": "stream",
     "text": [
      "已為您預約完成：小瓦隆\n"
     ]
    },
    {
     "name": "stdin",
     "output_type": "stream",
     "text": [
      "輸入訊息： 想看遊戲種類\n"
     ]
    },
    {
     "name": "stdout",
     "output_type": "stream",
     "text": [
      "尚可預約遊戲：\n",
      "雨聲\n",
      "龍捲風\n",
      "\n"
     ]
    },
    {
     "name": "stdin",
     "output_type": "stream",
     "text": [
      "輸入訊息： 想預約小瓦隆\n"
     ]
    },
    {
     "name": "stdout",
     "output_type": "stream",
     "text": [
      "此遊戲已被預約！抱歉\n"
     ]
    },
    {
     "name": "stdin",
     "output_type": "stream",
     "text": [
      "輸入訊息： 想取消預約\n"
     ]
    },
    {
     "name": "stdout",
     "output_type": "stream",
     "text": [
      "已為您取消預約\n"
     ]
    },
    {
     "name": "stdin",
     "output_type": "stream",
     "text": [
      "輸入訊息： 想看遊戲種類\n"
     ]
    },
    {
     "name": "stdout",
     "output_type": "stream",
     "text": [
      "尚可預約遊戲：\n",
      "小瓦隆\n",
      "雨聲\n",
      "龍捲風\n",
      "\n"
     ]
    },
    {
     "name": "stdin",
     "output_type": "stream",
     "text": [
      "輸入訊息： 亂打\n"
     ]
    },
    {
     "name": "stdout",
     "output_type": "stream",
     "text": [
      "您好！\n",
      "請問需要什麼樣的服務？\n"
     ]
    },
    {
     "name": "stdin",
     "output_type": "stream",
     "text": [
      "輸入訊息： 結束\n"
     ]
    }
   ],
   "source": [
    "\n",
    "# import for database\n",
    "import sqlite3\n",
    "\n",
    "# connect to database\n",
    "connect = sqlite3.connect('game.db')\n",
    "cursor = connect.cursor()\n",
    "\n",
    "def init_games():\n",
    "\n",
    "    # 建立資料表\n",
    "    cursor.execute(\"CREATE TABLE reservation \\\n",
    "                   (id integer primary key, \\\n",
    "                    game text, \\\n",
    "                    user_id text)\")\n",
    "    connect.commit()\n",
    "\n",
    "    # 填入遊戲\n",
    "    cursor.execute(\"INSERT INTO reservation (game) \\\n",
    "                    VALUES ('小瓦隆')\")\n",
    "    cursor.execute(\"INSERT INTO reservation (game) \\\n",
    "                    VALUES ('雨聲')\")\n",
    "    cursor.execute(\"INSERT INTO reservation (game) \\\n",
    "                    VALUES ('龍捲風')\")\n",
    "    connect.commit()\n",
    "\n",
    "def handle_msg(user_id, msg):\n",
    "\n",
    "    # implement reservation\n",
    "    if msg == '想看遊戲種類':\n",
    "        ##1.用SQL查詢所有未被預約的遊戲\n",
    "        games = cursor.execute(\"SELECT * FROM reservation WHERE user_id IS NULL\")\n",
    "        \n",
    "        game_text = '尚可預約遊戲：\\n'\n",
    "        for game in games:\n",
    "            game_text = game_text + game[1] + '\\n'\n",
    "        print(game_text)\n",
    "        \n",
    "    elif msg[0:3] == '想預約':\n",
    "        game_name = msg[3:]\n",
    "\n",
    "        ##2.取出所有遊戲，放到games變數裡面\n",
    "        games = cursor.execute(\"SELECT * FROM reservation\")\n",
    "        found = False\n",
    "        for game in games:\n",
    "            if game[1] == game_name:\n",
    "                found = True\n",
    "                if game[2] is None:\n",
    "\n",
    "                    ##3.將預約的遊戲 user_id設成此使用者\n",
    "                    cursor.execute(\"UPDATE reservation \\\n",
    "                                  SET user_id = ? \\\n",
    "                                  WHERE game = ?\", (user_id, game_name))\n",
    "                    connect.commit()\n",
    "                    print('已為您預約完成：' + game_name)\n",
    "                else:\n",
    "                    print('此遊戲已被預約！抱歉')\n",
    "        if found == False:\n",
    "            print('並沒有此款遊戲')\n",
    "            \n",
    "    elif msg == '想取消預約':\n",
    "        ##4.將所有此使用者預約之遊戲取出，放到games變數內\n",
    "        games = cursor.execute(\"SELECT * FROM reservation where user_id = ?\", (user_id,))\n",
    "        canceled_game_name = []\n",
    "        found = False\n",
    "        for game in games:\n",
    "            canceled_game_name.append(game[1])\n",
    "        for game in canceled_game_name:\n",
    "\n",
    "            ## 將此遊戲user_id設回None\n",
    "            cursor.execute(\"UPDATE reservation \\\n",
    "                          SET user_id = ? \\\n",
    "                          WHERE game = ?\", (None, game))\n",
    "            connect.commit()\n",
    "            found =  True\n",
    "        if found == True:\n",
    "            print('已為您取消預約')\n",
    "            \n",
    "    else:\n",
    "        print('您好！\\n請問需要什麼樣的服務？')\n",
    "\n",
    "\n",
    "'''  -------------------------------\n",
    "              主程式\n",
    "-------------------------------- '''\n",
    "\n",
    "init_games()\n",
    "user_id = 'Eric'\n",
    "\n",
    "while True:\n",
    "    msg = input('輸入訊息：')\n",
    "    if msg == '結束':\n",
    "        break\n",
    "    handle_msg(user_id, msg)"
   ]
  },
  {
   "cell_type": "code",
   "execution_count": null,
   "id": "1eb9d709-af3b-45ae-bebd-ece92693c8ee",
   "metadata": {},
   "outputs": [],
   "source": []
  }
 ],
 "metadata": {
  "kernelspec": {
   "display_name": "Python 3 (ipykernel)",
   "language": "python",
   "name": "python3"
  },
  "language_info": {
   "codemirror_mode": {
    "name": "ipython",
    "version": 3
   },
   "file_extension": ".py",
   "mimetype": "text/x-python",
   "name": "python",
   "nbconvert_exporter": "python",
   "pygments_lexer": "ipython3",
   "version": "3.8.20"
  }
 },
 "nbformat": 4,
 "nbformat_minor": 5
}
